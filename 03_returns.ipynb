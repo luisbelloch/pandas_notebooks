{
 "cells": [
  {
   "cell_type": "markdown",
   "metadata": {},
   "source": [
    "# Asset / Portfolio Returns\n",
    "\n",
    "\n",
    "## Data preparation\n",
    "\n",
    "There are some data samples we will use in the notebook, in both csv and messagepack formats. To load them, use the helpers provided:"
   ]
  },
  {
   "cell_type": "code",
   "execution_count": 1,
   "metadata": {},
   "outputs": [],
   "source": [
    "from sample_data import stock_prices\n",
    "aapl = stock_prices(\"aapl\")\n",
    "msft = stock_prices(\"msft\")"
   ]
  },
  {
   "cell_type": "markdown",
   "metadata": {},
   "source": [
    "As some month-end data might be missing (mainly because holidays), we need to pad the series with latest known values:"
   ]
  },
  {
   "cell_type": "code",
   "execution_count": 2,
   "metadata": {},
   "outputs": [
    {
     "data": {
      "text/plain": [
       "Date\n",
       "2010-01-31    28.180000\n",
       "2010-02-28    28.670000\n",
       "2010-03-31    29.290001\n",
       "2010-04-30    30.540001\n",
       "2010-05-31    25.799999\n",
       "Freq: ME, Name: Close, dtype: float64"
      ]
     },
     "execution_count": 2,
     "metadata": {},
     "output_type": "execute_result"
    }
   ],
   "source": [
    "month_end_prices = msft.Close.resample(\"ME\").ffill()\n",
    "month_end_prices[:5]"
   ]
  },
  {
   "cell_type": "markdown",
   "metadata": {},
   "source": [
    "We can extract very basic parameters on this serie by using `describe()`"
   ]
  },
  {
   "cell_type": "code",
   "execution_count": 3,
   "metadata": {},
   "outputs": [
    {
     "data": {
      "text/plain": [
       "count    151.000000\n",
       "mean      95.898609\n",
       "std       86.182672\n",
       "min       23.010000\n",
       "25%       31.930000\n",
       "50%       55.090000\n",
       "75%      132.280006\n",
       "max      336.320007\n",
       "Name: Close, dtype: float64"
      ]
     },
     "execution_count": 3,
     "metadata": {},
     "output_type": "execute_result"
    }
   ],
   "source": [
    "month_end_prices.describe()"
   ]
  },
  {
   "cell_type": "markdown",
   "metadata": {},
   "source": [
    "## Asset Returns\n",
    "\n",
    "Net Return over month $t$ is defined by \n",
    "\n",
    "$\\displaystyle R_t = \\frac{P_t - P_{t-1}}{P_{t-1}} = \\frac{P_t}{P_{t-1}} - 1 = \\%\\Delta P_{t}$\n",
    "\n",
    "Intuitively known as the _percentage change in price_."
   ]
  },
  {
   "cell_type": "code",
   "execution_count": 4,
   "metadata": {},
   "outputs": [
    {
     "data": {
      "text/plain": [
       "np.float64(0.08549525123432211)"
      ]
     },
     "execution_count": 4,
     "metadata": {},
     "output_type": "execute_result"
    }
   ],
   "source": [
    "net_return = msft.Close['2016-03-31'] / msft.Close['2016-02-29'] - 1\n",
    "net_return"
   ]
  },
  {
   "cell_type": "markdown",
   "metadata": {},
   "source": [
    "that is equivalent to use `olhc` function we saw in Pandas introduction:"
   ]
  },
  {
   "cell_type": "code",
   "execution_count": 5,
   "metadata": {},
   "outputs": [
    {
     "data": {
      "text/plain": [
       "Date\n",
       "2016-02-29    50.880001\n",
       "2016-03-31    55.230000\n",
       "Freq: ME, Name: close, dtype: float64"
      ]
     },
     "execution_count": 5,
     "metadata": {},
     "output_type": "execute_result"
    }
   ],
   "source": [
    "pt = msft.Close['2016-02-29':'2016-03-31'].resample(\"ME\").ohlc().close\n",
    "pt"
   ]
  },
  {
   "cell_type": "code",
   "execution_count": 6,
   "metadata": {},
   "outputs": [
    {
     "data": {
      "text/plain": [
       "np.float64(0.08549525123432211)"
      ]
     },
     "execution_count": 6,
     "metadata": {},
     "output_type": "execute_result"
    }
   ],
   "source": [
    "net_return = (pt.iloc[1] / pt.iloc[0]) - 1\n",
    "net_return"
   ]
  },
  {
   "cell_type": "markdown",
   "metadata": {},
   "source": [
    "Pandas already has a function to calculate it, named `pct_change`. For instance, this calculate the net returns for one month:"
   ]
  },
  {
   "cell_type": "code",
   "execution_count": 7,
   "metadata": {},
   "outputs": [
    {
     "data": {
      "text/plain": [
       "Date\n",
       "2010-01-31         NaN\n",
       "2010-02-28    0.017388\n",
       "2010-03-31    0.021625\n",
       "2010-04-30    0.042677\n",
       "2010-05-31   -0.155206\n",
       "Freq: ME, Name: Close, dtype: float64"
      ]
     },
     "execution_count": 7,
     "metadata": {},
     "output_type": "execute_result"
    }
   ],
   "source": [
    "one_month_net_returns = month_end_prices.pct_change()\n",
    "one_month_net_returns[:5]"
   ]
  },
  {
   "cell_type": "markdown",
   "metadata": {},
   "source": [
    "### Alternative method\n",
    "\n",
    "Another way to calculate it is using $r_i = \\log(\\frac{p_i}{p_{i-1}}) = \\log{p_i} - \\log{p_{i-1}}$\n",
    "\n",
    "The result is a good approximation for not too big percentage changes. It has the benefit that `log` operations are simple table lookups, so previous division is no longer needed. There're some additional notes on the math behind in [this answer from StackExchange](https://stats.stackexchange.com/questions/244199/why-is-it-that-natural-log-changes-are-percentage-changes-what-is-about-logs-th).\n",
    "\n",
    "For this implementation we'll be using [`shift` method from Pandas' Series](https://pandas.pydata.org/pandas-docs/stable/generated/pandas.Series.shift.html), that returns the previous element in the sequence."
   ]
  },
  {
   "cell_type": "code",
   "execution_count": 8,
   "metadata": {},
   "outputs": [
    {
     "data": {
      "text/plain": [
       "Date\n",
       "2010-01-31         NaN\n",
       "2010-02-28    0.017239\n",
       "2010-03-31    0.021395\n",
       "2010-04-30    0.041791\n",
       "2010-05-31   -0.168663\n",
       "Freq: ME, Name: Close, dtype: float64"
      ]
     },
     "execution_count": 8,
     "metadata": {},
     "output_type": "execute_result"
    }
   ],
   "source": [
    "import numpy as np\n",
    "\n",
    "def monthly_returns(closes):\n",
    "    return np.log(closes) - np.log(closes.shift(1))\n",
    "\n",
    "returns = monthly_returns(month_end_prices)\n",
    "returns[:5]"
   ]
  },
  {
   "cell_type": "markdown",
   "metadata": {},
   "source": [
    "### K-Month Generalization"
   ]
  },
  {
   "cell_type": "markdown",
   "metadata": {},
   "source": [
    "Beware of adding two simple one-period returns. Having price values for 3 months as $[2, 3, 1.5]$, we get returns as $R_{t-1} = (3/2)-1 = 0.5$ and $R_t = (1.5/3)-1 = -0.5$. However, this gives us a two-period return of zero when added $R_{t-1}+R_t = 0.5 - 0.5 = 0$, when it should be $R_{t} = (P_t-P_{t2}) - 1 = (1.5 / 2) - 1 = -0.25$. \n",
    "\n",
    "We need to account for the combined growth by multiplying both returns $1 - R_t(2) = R_t \\cdot R_{t-1} = 0.5 \\cdot -0.5 = -0.25$\n",
    "\n",
    "Better to generalize it as a geometric average:\n",
    "\n",
    "$\\displaystyle 1 + R_t(k) = \\prod{1 + R_{t-j}}$ \n",
    "\n",
    "For instance, the prices for February to April 2016 are:"
   ]
  },
  {
   "cell_type": "code",
   "execution_count": 9,
   "metadata": {},
   "outputs": [
    {
     "data": {
      "text/plain": [
       "Date\n",
       "2016-02-29    50.880001\n",
       "2016-03-31    55.230000\n",
       "2016-04-30    49.869999\n",
       "Freq: ME, Name: Close, dtype: float64"
      ]
     },
     "execution_count": 9,
     "metadata": {},
     "output_type": "execute_result"
    }
   ],
   "source": [
    "p = month_end_prices[\"2016-02\":\"2016-04\"]\n",
    "p"
   ]
  },
  {
   "cell_type": "markdown",
   "metadata": {},
   "source": [
    "And the percentage of change April and February are $1-R_t = (P_t/P_{t-2})$:"
   ]
  },
  {
   "cell_type": "code",
   "execution_count": 10,
   "metadata": {},
   "outputs": [
    {
     "data": {
      "text/plain": [
       "np.float64(-0.019850670499757528)"
      ]
     },
     "execution_count": 10,
     "metadata": {},
     "output_type": "execute_result"
    }
   ],
   "source": [
    "(p.iloc[2] / p.iloc[0]) - 1"
   ]
  },
  {
   "cell_type": "markdown",
   "metadata": {},
   "source": [
    "Therefore, we can apply the formula above as:"
   ]
  },
  {
   "cell_type": "code",
   "execution_count": 11,
   "metadata": {},
   "outputs": [
    {
     "data": {
      "text/plain": [
       "np.float64(-0.01985067049975764)"
      ]
     },
     "execution_count": 11,
     "metadata": {},
     "output_type": "execute_result"
    }
   ],
   "source": [
    "((p.iloc[1] / p.iloc[0]) * (p.iloc[2]/p.iloc[1])) - 1"
   ]
  },
  {
   "cell_type": "markdown",
   "metadata": {},
   "source": [
    "## Portfolio Returns\n",
    "\n",
    "The same values we've calculated before for assets can easily be translated to whole _portfolios_.\n",
    "\n",
    "Let's calculate the initial portfolio value and the amount of shares"
   ]
  },
  {
   "cell_type": "code",
   "execution_count": 12,
   "metadata": {},
   "outputs": [
    {
     "data": {
      "text/plain": [
       "np.float64(824.3999862670898)"
      ]
     },
     "execution_count": 12,
     "metadata": {},
     "output_type": "execute_result"
    }
   ],
   "source": [
    "msft_shares = 10\n",
    "aapl_shares = 10\n",
    "initial_portfolio_value = (msft_shares * msft.Close['2016-03-30']) + (aapl_shares * aapl.Close['2016-03-30'])\n",
    "initial_portfolio_value"
   ]
  },
  {
   "cell_type": "markdown",
   "metadata": {},
   "source": [
    "Percentage of each stock, should add to 1"
   ]
  },
  {
   "cell_type": "code",
   "execution_count": 13,
   "metadata": {},
   "outputs": [
    {
     "data": {
      "text/plain": [
       "[np.float64(0.6677583715925172),\n",
       " np.float64(0.33224162840748284),\n",
       " np.float64(1.0)]"
      ]
     },
     "execution_count": 13,
     "metadata": {},
     "output_type": "execute_result"
    }
   ],
   "source": [
    "x_msft = (msft_shares * msft.Close['2016-03-30']) / initial_portfolio_value\n",
    "x_aapl = (aapl_shares * aapl.Close['2016-03-30']) / initial_portfolio_value\n",
    "[x_msft, x_aapl, x_msft+x_aapl]"
   ]
  },
  {
   "cell_type": "markdown",
   "metadata": {},
   "source": [
    "One-month returns for AAPL and MSFT"
   ]
  },
  {
   "cell_type": "code",
   "execution_count": 14,
   "metadata": {},
   "outputs": [
    {
     "data": {
      "text/plain": [
       "[np.float64(-0.0940962829603188), np.float64(-0.14439576530990283)]"
      ]
     },
     "execution_count": 14,
     "metadata": {},
     "output_type": "execute_result"
    }
   ],
   "source": [
    "ret_msft = msft.Close['2016-04-29'] / msft.Close['2016-03-30'] - 1\n",
    "ret_aapl = aapl.Close['2016-04-29'] / aapl.Close['2016-03-30'] - 1\n",
    "[ret_msft, ret_aapl]"
   ]
  },
  {
   "cell_type": "markdown",
   "metadata": {},
   "source": [
    "You can see them as _weights_. Using them, the one-month rate of return on the portfolio is"
   ]
  },
  {
   "cell_type": "code",
   "execution_count": 15,
   "metadata": {},
   "outputs": [
    {
     "data": {
      "text/plain": [
       "np.float64(-0.11080786488419804)"
      ]
     },
     "execution_count": 15,
     "metadata": {},
     "output_type": "execute_result"
    }
   ],
   "source": [
    "rpt = (x_msft*ret_msft) + (x_aapl*ret_aapl)\n",
    "rpt"
   ]
  },
  {
   "cell_type": "markdown",
   "metadata": {},
   "source": [
    "The portfolio value at the end of month $t$ is $V_t = V_{t-1}(1 + R_{p,t})$"
   ]
  },
  {
   "cell_type": "code",
   "execution_count": 16,
   "metadata": {},
   "outputs": [
    {
     "data": {
      "text/plain": [
       "np.float64(733.0499839782715)"
      ]
     },
     "execution_count": 16,
     "metadata": {},
     "output_type": "execute_result"
    }
   ],
   "source": [
    "vt = initial_portfolio_value * (1 + rpt)\n",
    "vt"
   ]
  },
  {
   "cell_type": "markdown",
   "metadata": {},
   "source": [
    "In general, for a portfolio of $n$ assets with investment shares $x_i$ such that $x_1+...+x_n=1$, the one-period portfolio gross and simple returns are defined as\n",
    "\n",
    "$\\displaystyle R_{p,t} = \\sum\\limits_{i=1}^n x_i R_{i,t}$"
   ]
  },
  {
   "cell_type": "markdown",
   "metadata": {},
   "source": [
    "---\n",
    "\n",
    "## Exercise 3.1\n",
    "\n",
    "Read the file `data/prices.csv` using Spark and compute the daily returns for all the symbols in the file. Can you spot any possible performance problem in the solution presented? How does it compare to Pandas?\n",
    "\n",
    "_Tip: you can use [window functions](https://spark.apache.org/docs/3.1.3/api/python/reference/api/pyspark.sql.functions.window.html) to access the data._"
   ]
  }
 ],
 "metadata": {
  "kernelspec": {
   "display_name": "Python 3 (ipykernel)",
   "language": "python",
   "name": "python3"
  },
  "language_info": {
   "codemirror_mode": {
    "name": "ipython",
    "version": 3
   },
   "file_extension": ".py",
   "mimetype": "text/x-python",
   "name": "python",
   "nbconvert_exporter": "python",
   "pygments_lexer": "ipython3",
   "version": "3.12.4"
  }
 },
 "nbformat": 4,
 "nbformat_minor": 4
}
