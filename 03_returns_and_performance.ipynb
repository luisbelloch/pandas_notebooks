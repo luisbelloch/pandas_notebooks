{
 "cells": [
  {
   "cell_type": "markdown",
   "metadata": {},
   "source": [
    "# Asset / Portfolio Returns\n",
    "\n",
    "\n",
    "## Data preparation\n",
    "\n",
    "First thing would be to download the required data using [`pandas-datareader`](https://pandas-datareader.readthedocs.io/en/latest) package.  Remember we can easily install it using `pip`:\n",
    "\n",
    "```\n",
    "$ pip install pandas_datareader\n",
    "```"
   ]
  },
  {
   "cell_type": "code",
   "execution_count": 1,
   "metadata": {},
   "outputs": [
    {
     "name": "stdout",
     "output_type": "stream",
     "text": [
      "             Open   High    Low  Close    Volume\n",
      "Date                                            \n",
      "2015-12-28  55.35  55.95  54.98  55.95  22458293\n",
      "2015-12-29  56.29  56.85  56.06  56.55  27731403 \n",
      "\n",
      "              Open    High     Low   Close    Volume\n",
      "Date                                                \n",
      "2015-12-28  107.59  107.69  106.18  106.82  26704210\n",
      "2015-12-29  106.96  109.43  106.86  108.74  30931243\n"
     ]
    }
   ],
   "source": [
    "import requests_cache\n",
    "from datetime import datetime, timedelta\n",
    "import pandas_datareader.data as web\n",
    "\n",
    "expire_after = timedelta(days=180)\n",
    "session = requests_cache.CachedSession(cache_name='cache', backend='sqlite', expire_after=expire_after)\n",
    "msft = web.DataReader(\"MSFT\", \"google\", datetime(2015, 12, 25), datetime(2016, 12, 31), session=session)\n",
    "aapl = web.DataReader(\"AAPL\", \"google\", datetime(2015, 12, 25), datetime(2016, 12, 31), session=session)\n",
    "print(msft[:2], \"\\n\")\n",
    "print(aapl[:2])"
   ]
  },
  {
   "cell_type": "markdown",
   "metadata": {},
   "source": [
    "As some month-end data might be missing (mainly because holidays), we need to pad the series with latest known values:"
   ]
  },
  {
   "cell_type": "code",
   "execution_count": 2,
   "metadata": {},
   "outputs": [
    {
     "data": {
      "text/plain": [
       "Date\n",
       "2015-12-31    55.48\n",
       "2016-01-31    55.09\n",
       "2016-02-29    50.88\n",
       "2016-03-31    55.23\n",
       "2016-04-30    49.87\n",
       "Freq: M, Name: Close, dtype: float64"
      ]
     },
     "execution_count": 2,
     "metadata": {},
     "output_type": "execute_result"
    }
   ],
   "source": [
    "month_end_prices = msft.Close.resample(\"M\").pad()\n",
    "month_end_prices[:5]"
   ]
  },
  {
   "cell_type": "markdown",
   "metadata": {},
   "source": [
    "# Asset Returns\n",
    "\n",
    "Net Return over month $t$ is defined by $R_t = \\frac{P_t - P_{t-1}}{P_{t-1}} = \\%\\Delta P_{t}$.\n",
    "\n",
    "Intuitively known as the _percentage change in price_."
   ]
  },
  {
   "cell_type": "code",
   "execution_count": 3,
   "metadata": {},
   "outputs": [
    {
     "data": {
      "text/plain": [
       "0.085495283018867774"
      ]
     },
     "execution_count": 3,
     "metadata": {},
     "output_type": "execute_result"
    }
   ],
   "source": [
    "net_return = msft.Close['2016-03-31'] / msft.Close['2016-02-29'] - 1\n",
    "net_return"
   ]
  },
  {
   "cell_type": "markdown",
   "metadata": {},
   "source": [
    "that is equivalent to use `olhc` function we saw in Pandas introduction:"
   ]
  },
  {
   "cell_type": "code",
   "execution_count": 4,
   "metadata": {},
   "outputs": [
    {
     "data": {
      "text/plain": [
       "Date\n",
       "2016-02-29    50.88\n",
       "2016-03-31    55.23\n",
       "Freq: M, Name: close, dtype: float64"
      ]
     },
     "execution_count": 4,
     "metadata": {},
     "output_type": "execute_result"
    }
   ],
   "source": [
    "pt = msft.Close['2016-02-01':'2016-03-31'].resample(\"M\").ohlc().close\n",
    "pt"
   ]
  },
  {
   "cell_type": "code",
   "execution_count": 5,
   "metadata": {},
   "outputs": [
    {
     "data": {
      "text/plain": [
       "0.085495283018867774"
      ]
     },
     "execution_count": 5,
     "metadata": {},
     "output_type": "execute_result"
    }
   ],
   "source": [
    "net_return = pt[1] / pt[0] - 1\n",
    "net_return"
   ]
  },
  {
   "cell_type": "markdown",
   "metadata": {},
   "source": [
    "Pandas already has a function to calculate it, named `pct_change`. For instance, this calculate the net returns for one month:"
   ]
  },
  {
   "cell_type": "code",
   "execution_count": 6,
   "metadata": {},
   "outputs": [
    {
     "data": {
      "text/plain": [
       "Date\n",
       "2015-12-31         NaN\n",
       "2016-01-31   -0.007030\n",
       "2016-02-29   -0.076420\n",
       "2016-03-31    0.085495\n",
       "2016-04-30   -0.097049\n",
       "Freq: M, Name: Close, dtype: float64"
      ]
     },
     "execution_count": 6,
     "metadata": {},
     "output_type": "execute_result"
    }
   ],
   "source": [
    "one_month_net_returns = month_end_prices.pct_change()\n",
    "one_month_net_returns[:5]"
   ]
  },
  {
   "cell_type": "markdown",
   "metadata": {},
   "source": [
    "### Alternative method\n",
    "\n",
    "Another way to calculate it is using $r_i = {log}(\\frac{p_i}{p_{i-1}})$\n",
    "\n",
    "Note we're using [Series `shift` method](https://pandas.pydata.org/pandas-docs/stable/generated/pandas.Series.shift.html)"
   ]
  },
  {
   "cell_type": "code",
   "execution_count": 7,
   "metadata": {},
   "outputs": [
    {
     "data": {
      "text/plain": [
       "Date\n",
       "2015-12-31         NaN\n",
       "2016-01-31   -0.007054\n",
       "2016-02-29   -0.079498\n",
       "2016-03-31    0.082036\n",
       "2016-04-30   -0.102087\n",
       "Freq: M, Name: Close, dtype: float64"
      ]
     },
     "execution_count": 7,
     "metadata": {},
     "output_type": "execute_result"
    }
   ],
   "source": [
    "import numpy as np\n",
    "\n",
    "def daily_returns(closes):    \n",
    "    return np.log(closes / closes.shift(1))\n",
    "\n",
    "returns = daily_returns(month_end_prices)\n",
    "returns[:5]"
   ]
  },
  {
   "cell_type": "markdown",
   "metadata": {},
   "source": [
    "### K-Month Generalization"
   ]
  },
  {
   "cell_type": "markdown",
   "metadata": {},
   "source": [
    "Beware of adding two simple one-period returns. Having $R_{t-1} = 0.5$ and $R_t = -0.5$ gives a two-period return of zero, but it should be $R_t(2) - 1 = (1.5 \\cdot 0.5) - 1 = -0.25$.\n",
    "\n",
    "Better to generalize it as:\n",
    "\n",
    "$1 + R_t(k) = \\prod{1 + R_{t-j}}$ \n",
    "\n",
    "For instance, the geometric average of two one-month returns, March and April, are:"
   ]
  },
  {
   "cell_type": "code",
   "execution_count": 8,
   "metadata": {},
   "outputs": [
    {
     "data": {
      "text/plain": [
       "0.011675480627296064"
      ]
     },
     "execution_count": 8,
     "metadata": {},
     "output_type": "execute_result"
    }
   ],
   "source": [
    "rt2 = ((returns[3] - 1) * (returns[4] - 1)) - 1\n",
    "rt2"
   ]
  },
  {
   "cell_type": "markdown",
   "metadata": {},
   "source": [
    "## Portfolio Returns\n",
    "\n",
    "The same values we've calculated before for assets can easily be translated to whole _portfolios_.\n",
    "\n",
    "Let's calculate the initial portfolio value and the amount of shares"
   ]
  },
  {
   "cell_type": "code",
   "execution_count": 9,
   "metadata": {},
   "outputs": [
    {
     "data": {
      "text/plain": [
       "1646.0999999999999"
      ]
     },
     "execution_count": 9,
     "metadata": {},
     "output_type": "execute_result"
    }
   ],
   "source": [
    "msft_shares = 10\n",
    "aapl_shares = 10\n",
    "initial_portfolio_value = (msft_shares * msft.Close['2016-03-30']) + (aapl_shares * aapl.Close['2016-03-30'])\n",
    "initial_portfolio_value"
   ]
  },
  {
   "cell_type": "markdown",
   "metadata": {},
   "source": [
    "Percentage of each stock, should add to 1"
   ]
  },
  {
   "cell_type": "code",
   "execution_count": 10,
   "metadata": {},
   "outputs": [
    {
     "data": {
      "text/plain": [
       "[0.3344268270457445, 0.66557317295425544, 1.0]"
      ]
     },
     "execution_count": 10,
     "metadata": {},
     "output_type": "execute_result"
    }
   ],
   "source": [
    "x_msft = (msft_shares * msft.Close['2016-03-30']) / initial_portfolio_value\n",
    "x_aapl = (aapl_shares * aapl.Close['2016-03-30']) / initial_portfolio_value\n",
    "[x_msft, x_aapl, x_msft+x_aapl]"
   ]
  },
  {
   "cell_type": "markdown",
   "metadata": {},
   "source": [
    "One-month returns for AAPL and MSFT"
   ]
  },
  {
   "cell_type": "code",
   "execution_count": 11,
   "metadata": {},
   "outputs": [
    {
     "data": {
      "text/plain": [
       "[-0.094096276112624833, -0.14439576487769268]"
      ]
     },
     "execution_count": 11,
     "metadata": {},
     "output_type": "execute_result"
    }
   ],
   "source": [
    "ret_msft = msft.Close['2016-04-29'] / msft.Close['2016-03-30'] - 1\n",
    "ret_aapl = aapl.Close['2016-04-29'] / aapl.Close['2016-03-30'] - 1\n",
    "[ret_msft, ret_aapl]"
   ]
  },
  {
   "cell_type": "markdown",
   "metadata": {},
   "source": [
    "You can see them as _weights_. Using them, the one-month rate of return on the portfolio is"
   ]
  },
  {
   "cell_type": "code",
   "execution_count": 12,
   "metadata": {},
   "outputs": [
    {
     "data": {
      "text/plain": [
       "-0.12757426644796796"
      ]
     },
     "execution_count": 12,
     "metadata": {},
     "output_type": "execute_result"
    }
   ],
   "source": [
    "rpt = (x_msft*ret_msft) + (x_aapl*ret_aapl)\n",
    "rpt"
   ]
  },
  {
   "cell_type": "markdown",
   "metadata": {},
   "source": [
    "The portfolio value at the end of month $t$ is $V_t = V_{t-1}(1 + R_{p,t})$"
   ]
  },
  {
   "cell_type": "code",
   "execution_count": 13,
   "metadata": {},
   "outputs": [
    {
     "data": {
      "text/plain": [
       "1436.0999999999999"
      ]
     },
     "execution_count": 13,
     "metadata": {},
     "output_type": "execute_result"
    }
   ],
   "source": [
    "vt = initial_portfolio_value * (1 + rpt)\n",
    "vt"
   ]
  },
  {
   "cell_type": "markdown",
   "metadata": {},
   "source": [
    "In general, for a portfolio of $n$ assets with investment shares $x_i$ such that $x_1+...+x_n=1$, the one-period portfolio gross and simple returns are defined as\n",
    "\n",
    "$R_{p,t} = \\sum\\limits_{i=1}^n x_i R_{i,t}$"
   ]
  }
 ],
 "metadata": {
  "kernelspec": {
   "display_name": "Python 3",
   "language": "python",
   "name": "python3"
  },
  "language_info": {
   "codemirror_mode": {
    "name": "ipython",
    "version": 3
   },
   "file_extension": ".py",
   "mimetype": "text/x-python",
   "name": "python",
   "nbconvert_exporter": "python",
   "pygments_lexer": "ipython3",
   "version": "3.6.1"
  }
 },
 "nbformat": 4,
 "nbformat_minor": 2
}
