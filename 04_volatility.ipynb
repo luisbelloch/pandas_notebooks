{
 "cells": [
  {
   "cell_type": "markdown",
   "id": "82533e02-f9bf-45b9-b970-acb7a9e59400",
   "metadata": {},
   "source": [
    "# Volatility"
   ]
  },
  {
   "cell_type": "markdown",
   "id": "e8947f54-57c1-47a1-95e1-4218c2a6fcc4",
   "metadata": {
    "tags": []
   },
   "source": [
    "The _Volatility_ of a stock gives us a measure on the amount of uncertainty given the changes made over time. Normally, it is computed using the standard deviation over the logaritmic returns.\n",
    "\n",
    "The daily volatility for a given period of returns $P$ can be defined as:\n",
    "\n",
    "$\\displaystyle \\sigma _{\\text{P}}=\\sigma _{\\text{daily}}{\\sqrt{P}}$\n",
    "\n",
    "Therefore, to calculate the volatily for one month, we just have to compute the standard deviation over the returns of that month, having $P$ trading days:"
   ]
  },
  {
   "cell_type": "code",
   "execution_count": 1,
   "id": "1d2e1830-8fb9-457f-bd7b-892a506d2688",
   "metadata": {},
   "outputs": [
    {
     "data": {
      "text/plain": [
       "np.float64(0.08540732054646473)"
      ]
     },
     "execution_count": 1,
     "metadata": {},
     "output_type": "execute_result"
    }
   ],
   "source": [
    "from math import sqrt\n",
    "from sample_data import stock_prices\n",
    "\n",
    "msft = stock_prices(\"msft\")\n",
    "\n",
    "time_slice = msft.Close['2016-03-30':'2016-04-29']\n",
    "std_dev_returns = time_slice.pct_change().std()\n",
    "trading_days = len(time_slice)\n",
    "\n",
    "volatility = std_dev_returns * sqrt(trading_days)\n",
    "volatility"
   ]
  },
  {
   "cell_type": "markdown",
   "id": "cd280409-ddaf-41e3-9014-4b4484e13aba",
   "metadata": {},
   "source": [
    "This gives us notion on how far the price might deviate from the average, in this case a 8.54%."
   ]
  },
  {
   "cell_type": "markdown",
   "id": "4bf16343-d174-46c7-944e-ba1bf32a2c91",
   "metadata": {},
   "source": [
    "## Beta"
   ]
  },
  {
   "cell_type": "markdown",
   "id": "a9ee7d57-9c05-4d0b-bd94-a1f857ccaf6d",
   "metadata": {},
   "source": [
    "Beta (β) is a measure of the volatility in relation to the market as a whole. It's normally computed against an index like SP&500. Stocks having β values below 0 indicate that its returns move close to the index. Stocks with betas higher than 1.0 can be interpreted as more volatile than the S&P 500.\n",
    "\n",
    "It's defined as:\n",
    "\n",
    "$\\displaystyle \\beta _{i}={\\frac {\\mathrm {Cov} (r_{i},r_{m})}{\\mathrm {Var} (r_{m})}}$\n",
    "\n",
    "where $r_{i}$ is the return on an individual stock and $r_{m}$ is the return on the overall market.\n",
    "\n",
    "To calculate it, first we need to get the data for the S&P500 index, represented as `^GSPC`. We will use a library called [pandas_datareader](https://pydata.github.io/pandas-datareader/remote_data.html), that can read stock data from different sources. Alternativelly, you can read the csv file in `./data/sp500.csv`."
   ]
  },
  {
   "cell_type": "code",
   "execution_count": 2,
   "id": "9817a1fe-4cb9-41d9-8387-04c1ae4e102f",
   "metadata": {},
   "outputs": [
    {
     "data": {
      "text/html": [
       "<div>\n",
       "<style scoped>\n",
       "    .dataframe tbody tr th:only-of-type {\n",
       "        vertical-align: middle;\n",
       "    }\n",
       "\n",
       "    .dataframe tbody tr th {\n",
       "        vertical-align: top;\n",
       "    }\n",
       "\n",
       "    .dataframe thead th {\n",
       "        text-align: right;\n",
       "    }\n",
       "</style>\n",
       "<table border=\"1\" class=\"dataframe\">\n",
       "  <thead>\n",
       "    <tr style=\"text-align: right;\">\n",
       "      <th></th>\n",
       "      <th>High</th>\n",
       "      <th>Low</th>\n",
       "      <th>Open</th>\n",
       "      <th>Close</th>\n",
       "      <th>Volume</th>\n",
       "      <th>Adj Close</th>\n",
       "    </tr>\n",
       "    <tr>\n",
       "      <th>Date</th>\n",
       "      <th></th>\n",
       "      <th></th>\n",
       "      <th></th>\n",
       "      <th></th>\n",
       "      <th></th>\n",
       "      <th></th>\n",
       "    </tr>\n",
       "  </thead>\n",
       "  <tbody>\n",
       "    <tr>\n",
       "      <th>2010-01-04</th>\n",
       "      <td>1133.869995</td>\n",
       "      <td>1116.560059</td>\n",
       "      <td>1116.560059</td>\n",
       "      <td>1132.989990</td>\n",
       "      <td>3991400000</td>\n",
       "      <td>1132.989990</td>\n",
       "    </tr>\n",
       "    <tr>\n",
       "      <th>2010-01-05</th>\n",
       "      <td>1136.630005</td>\n",
       "      <td>1129.660034</td>\n",
       "      <td>1132.660034</td>\n",
       "      <td>1136.520020</td>\n",
       "      <td>2491020000</td>\n",
       "      <td>1136.520020</td>\n",
       "    </tr>\n",
       "    <tr>\n",
       "      <th>2010-01-06</th>\n",
       "      <td>1139.189941</td>\n",
       "      <td>1133.949951</td>\n",
       "      <td>1135.709961</td>\n",
       "      <td>1137.140015</td>\n",
       "      <td>4972660000</td>\n",
       "      <td>1137.140015</td>\n",
       "    </tr>\n",
       "  </tbody>\n",
       "</table>\n",
       "</div>"
      ],
      "text/plain": [
       "                   High          Low         Open        Close      Volume  \\\n",
       "Date                                                                         \n",
       "2010-01-04  1133.869995  1116.560059  1116.560059  1132.989990  3991400000   \n",
       "2010-01-05  1136.630005  1129.660034  1132.660034  1136.520020  2491020000   \n",
       "2010-01-06  1139.189941  1133.949951  1135.709961  1137.140015  4972660000   \n",
       "\n",
       "              Adj Close  \n",
       "Date                     \n",
       "2010-01-04  1132.989990  \n",
       "2010-01-05  1136.520020  \n",
       "2010-01-06  1137.140015  "
      ]
     },
     "execution_count": 2,
     "metadata": {},
     "output_type": "execute_result"
    }
   ],
   "source": [
    "import pandas as pd\n",
    "sp500 = pd.read_csv('./data/sp500.csv', index_col=0, parse_dates=[0])\n",
    "sp500[:3]\n",
    "\n",
    "# Alternativelly\n",
    "# import pandas_datareader.data as dr\n",
    "# sp500 = dr.DataReader(\"^GSPC\", \"yahoo\", start='2018-01-01', end='2022-12-31')"
   ]
  },
  {
   "cell_type": "markdown",
   "id": "bd54137d-a98c-4f5e-88a6-6cae47599ac5",
   "metadata": {},
   "source": [
    "We will compute the Beta value for 5Y period:"
   ]
  },
  {
   "cell_type": "code",
   "execution_count": 3,
   "id": "68f0aaf2-77f2-4a7f-97f4-8e0bd9dda57f",
   "metadata": {},
   "outputs": [
    {
     "data": {
      "text/plain": [
       "np.float64(1.2530339335561118)"
      ]
     },
     "execution_count": 3,
     "metadata": {},
     "output_type": "execute_result"
    }
   ],
   "source": [
    "aapl = stock_prices(\"aapl\")\n",
    "r_i = aapl.Close['2018':'2022'].pct_change()\n",
    "r_m = sp500.Close['2018':'2022'].pct_change()\n",
    "beta = r_i.cov(r_m) / r_m.var()\n",
    "beta"
   ]
  }
 ],
 "metadata": {
  "kernelspec": {
   "display_name": "Python 3 (ipykernel)",
   "language": "python",
   "name": "python3"
  },
  "language_info": {
   "codemirror_mode": {
    "name": "ipython",
    "version": 3
   },
   "file_extension": ".py",
   "mimetype": "text/x-python",
   "name": "python",
   "nbconvert_exporter": "python",
   "pygments_lexer": "ipython3",
   "version": "3.12.4"
  }
 },
 "nbformat": 4,
 "nbformat_minor": 5
}
