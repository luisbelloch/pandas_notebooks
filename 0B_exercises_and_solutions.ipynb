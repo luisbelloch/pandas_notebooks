{
 "cells": [
  {
   "cell_type": "markdown",
   "metadata": {},
   "source": [
    "# Class Exercises\n",
    "\n",
    "This file contains solutions for exercises proposed during class. Notice there are multiple possible solutions for each one.\n",
    "\n",
    "## Exercise 1\n",
    "\n",
    "Read data for `tsla` symbol and select 90% of `Close` column for training and reserve 10% for model later checking. Try to randomise data picked."
   ]
  },
  {
   "cell_type": "code",
   "execution_count": 1,
   "metadata": {},
   "outputs": [
    {
     "data": {
      "text/plain": [
       "Symbol  Date      \n",
       "tsla    2018-01-22    351.5600\n",
       "        2015-09-10    248.4800\n",
       "        2014-12-04    228.2800\n",
       "        2012-12-03     34.6200\n",
       "        2017-12-26    317.2900\n",
       "        2011-05-06     27.1200\n",
       "        2012-11-02     28.9182\n",
       "        2011-11-02     28.7100\n",
       "        2013-12-27    151.1200\n",
       "        2014-01-29    175.2300\n",
       "        2011-03-16     22.8200\n",
       "        2014-04-24    207.8600\n",
       "        2012-07-05     31.2300\n",
       "        2010-09-15     21.9800\n",
       "        2012-08-10     29.9400\n",
       "        2011-03-03     24.3600\n",
       "        2015-09-21    264.2000\n",
       "        2013-09-17    166.2300\n",
       "        2012-01-10     27.6200\n",
       "        2015-12-17    233.3900\n",
       "        2015-01-01    222.4100\n",
       "Name: Close, dtype: float64"
      ]
     },
     "execution_count": 1,
     "metadata": {},
     "output_type": "execute_result"
    }
   ],
   "source": [
    "import pandas as pd\n",
    "prices = pd.read_msgpack('./data/prices.mp')\n",
    "tsla = prices[prices.index.get_level_values('Symbol').isin(['tsla'])]\n",
    "model_check = tsla.Close.sample(frac=0.01, random_state=1)\n",
    "model_check"
   ]
  },
  {
   "cell_type": "markdown",
   "metadata": {},
   "source": [
    "Notice the usage of `sample` function. Documentation can be checked here: [pandas.DataFrame.sample](https://pandas.pydata.org/pandas-docs/stable/generated/pandas.DataFrame.sample.html?highlight=sample#pandas.DataFrame.sample)"
   ]
  }
 ],
 "metadata": {
  "kernelspec": {
   "display_name": "Python 3",
   "language": "python",
   "name": "python3"
  },
  "language_info": {
   "codemirror_mode": {
    "name": "ipython",
    "version": 3
   },
   "file_extension": ".py",
   "mimetype": "text/x-python",
   "name": "python",
   "nbconvert_exporter": "python",
   "pygments_lexer": "ipython3",
   "version": "3.6.5"
  }
 },
 "nbformat": 4,
 "nbformat_minor": 2
}
