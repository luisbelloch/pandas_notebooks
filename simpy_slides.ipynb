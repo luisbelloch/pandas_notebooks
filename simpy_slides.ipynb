{
 "cells": [
  {
   "cell_type": "markdown",
   "metadata": {
    "slideshow": {
     "slide_type": "slide"
    }
   },
   "source": [
    "# Simpy - System Simulation in Python\n",
    "\n",
    "`$ pip install simpy faker`"
   ]
  },
  {
   "cell_type": "markdown",
   "metadata": {
    "slideshow": {
     "slide_type": "slide"
    }
   },
   "source": [
    "# Números aleatorios\n",
    "\n",
    "- [Relationship between Poisson and Exponential distribution](https://stats.stackexchange.com/questions/2092/relationship-between-poisson-and-exponential-distribution)\n",
    "- [random.expovariate](https://docs.python.org/3/library/random.html#random.expovariate)\n",
    "\n",
    "Podemos probar que se cumple la media generando 10K números y computandola."
   ]
  },
  {
   "cell_type": "code",
   "execution_count": 1,
   "metadata": {
    "slideshow": {
     "slide_type": "subslide"
    }
   },
   "outputs": [
    {
     "data": {
      "text/plain": [
       "[2.114481934028434, 4.436433497741162, 5.85384286054457]"
      ]
     },
     "execution_count": 1,
     "metadata": {},
     "output_type": "execute_result"
    }
   ],
   "source": [
    "import random\n",
    "mean = 5.4\n",
    "numeros = [random.expovariate(1.0 / mean) for i in range(0, 10000)]\n",
    "numeros[:3]"
   ]
  },
  {
   "cell_type": "code",
   "execution_count": 2,
   "metadata": {
    "slideshow": {
     "slide_type": "fragment"
    }
   },
   "outputs": [
    {
     "name": "stdout",
     "output_type": "stream",
     "text": [
      "Media: 5.391090\n"
     ]
    }
   ],
   "source": [
    "from pandas import Series\n",
    "series = Series(numeros)\n",
    "print(\"Media: %f\" % series.mean())"
   ]
  },
  {
   "cell_type": "markdown",
   "metadata": {
    "slideshow": {
     "slide_type": "slide"
    }
   },
   "source": [
    "# Strings Aleatorios"
   ]
  },
  {
   "cell_type": "code",
   "execution_count": 3,
   "metadata": {
    "slideshow": {
     "slide_type": "fragment"
    }
   },
   "outputs": [
    {
     "name": "stdout",
     "output_type": "stream",
     "text": [
      "Noelia Ramírez Sola\n",
      "Callejón de Manuel Laguna 3 Puerta 3 \n",
      "Huelva, 34822\n"
     ]
    }
   ],
   "source": [
    "from faker import Factory\n",
    "fake = Factory.create('es-ES')\n",
    "print(fake.name())\n",
    "print(fake.address())"
   ]
  },
  {
   "cell_type": "markdown",
   "metadata": {
    "slideshow": {
     "slide_type": "slide"
    }
   },
   "source": [
    "# Simulación cola básica M/M/1"
   ]
  },
  {
   "cell_type": "markdown",
   "metadata": {
    "slideshow": {
     "slide_type": "-"
    }
   },
   "source": [
    "Definiremos dos listas para guardar los tiempos de espera y de servicio"
   ]
  },
  {
   "cell_type": "code",
   "execution_count": 4,
   "metadata": {
    "collapsed": true,
    "slideshow": {
     "slide_type": "fragment"
    }
   },
   "outputs": [],
   "source": [
    "t_espera = []\n",
    "t_servicio = []"
   ]
  },
  {
   "cell_type": "markdown",
   "metadata": {
    "slideshow": {
     "slide_type": "subslide"
    }
   },
   "source": [
    "## Estación\n",
    "\n",
    "Podemos entonces definir una funciona para simular el tiempo de servicio de un cliente"
   ]
  },
  {
   "cell_type": "code",
   "execution_count": 5,
   "metadata": {
    "collapsed": true,
    "slideshow": {
     "slide_type": "fragment"
    }
   },
   "outputs": [],
   "source": [
    "def cliente_en_servicio(env, nombre, tiempo_sistema):\n",
    "    inicio_servicio = env.now\n",
    "    tiempo_servicio = random.expovariate(1.0 / tiempo_sistema)\n",
    "    yield env.timeout(tiempo_servicio)\n",
    "    t_servicio.append(tiempo_servicio)\n",
    "    print('%7.4f %s servido en %f' % (env.now, nombre, tiempo_servicio))"
   ]
  },
  {
   "cell_type": "markdown",
   "metadata": {
    "slideshow": {
     "slide_type": "fragment"
    }
   },
   "source": [
    "Importando un entorno de Simpy, podemos llamar a la función para obtener el tiempo de servicio"
   ]
  },
  {
   "cell_type": "code",
   "execution_count": 6,
   "metadata": {
    "slideshow": {
     "slide_type": "fragment"
    }
   },
   "outputs": [
    {
     "name": "stdout",
     "output_type": "stream",
     "text": [
      " 0.0000 Ismael servido en 0.264852\n"
     ]
    },
    {
     "data": {
      "text/plain": [
       "[<Timeout(0.2648520695050856) object at 0x1106dd860>]"
      ]
     },
     "execution_count": 6,
     "metadata": {},
     "output_type": "execute_result"
    }
   ],
   "source": [
    "import simpy\n",
    "env = simpy.Environment()\n",
    "\n",
    "list(cliente_en_servicio(env, fake.first_name(), 1.0))"
   ]
  },
  {
   "cell_type": "markdown",
   "metadata": {
    "slideshow": {
     "slide_type": "subslide"
    }
   },
   "source": [
    "## Cola y estación\n",
    "\n",
    "A partir de aqui, podemos simular un cliente completo que espera en cola, entra en la estación y abandona el sistema:"
   ]
  },
  {
   "cell_type": "code",
   "execution_count": 7,
   "metadata": {
    "collapsed": true,
    "slideshow": {
     "slide_type": "fragment"
    }
   },
   "outputs": [],
   "source": [
    "def cliente(env, nombre, cola, tiempo_sistema):\n",
    "    llegada = env.now\n",
    "    print('%7.4f %s se pone en cola' % (llegada, nombre))\n",
    "\n",
    "    with cola.request() as req:        \n",
    "        yield req\n",
    "        \n",
    "        espera = env.now - llegada\n",
    "        t_espera.append(espera)    \n",
    "        print('%7.4f %s en sistema, espera: %f' % (env.now, nombre, espera))\n",
    "        \n",
    "        yield cliente_en_servicio(env, nombre, tiempo_sistema)"
   ]
  },
  {
   "cell_type": "code",
   "execution_count": 8,
   "metadata": {
    "slideshow": {
     "slide_type": "fragment"
    }
   },
   "outputs": [
    {
     "name": "stdout",
     "output_type": "stream",
     "text": [
      " 0.0000 Joan se pone en cola\n",
      " 0.0000 Joan en sistema, espera: 0.000000\n"
     ]
    },
    {
     "data": {
      "text/plain": [
       "[<Request() object at 0x1107102b0>,\n",
       " <generator object cliente_en_servicio at 0x1106f0fc0>]"
      ]
     },
     "execution_count": 8,
     "metadata": {},
     "output_type": "execute_result"
    }
   ],
   "source": [
    "env = simpy.Environment()\n",
    "cola = simpy.Resource(env, capacity=1)\n",
    "\n",
    "list(cliente(env, fake.first_name(), cola, 1.0))"
   ]
  },
  {
   "cell_type": "markdown",
   "metadata": {
    "slideshow": {
     "slide_type": "subslide"
    }
   },
   "source": [
    "## Orígen de clientes"
   ]
  },
  {
   "cell_type": "code",
   "execution_count": 9,
   "metadata": {
    "collapsed": true,
    "slideshow": {
     "slide_type": "fragment"
    }
   },
   "outputs": [],
   "source": [
    "def source(env, number, intervalo_llegadas, cola, tiempo_sistema):\n",
    "    for i in range(number):\n",
    "        c = cliente(env, fake.first_name(), cola, tiempo_sistema)\n",
    "        env.process(c)\n",
    "        t = random.expovariate(1.0 / intervalo_llegadas)\n",
    "        yield env.timeout(t)"
   ]
  },
  {
   "cell_type": "code",
   "execution_count": 10,
   "metadata": {
    "collapsed": true,
    "slideshow": {
     "slide_type": "fragment"
    }
   },
   "outputs": [],
   "source": [
    "TOTAL_CLIENTES = 10\n",
    "TIEMPO_SISTEMA = 5\n",
    "INTERVALO_LLEGADAS = 3"
   ]
  },
  {
   "cell_type": "markdown",
   "metadata": {
    "slideshow": {
     "slide_type": "subslide"
    }
   },
   "source": [
    "## Simulación Completa"
   ]
  },
  {
   "cell_type": "code",
   "execution_count": 11,
   "metadata": {
    "slideshow": {
     "slide_type": "fragment"
    }
   },
   "outputs": [
    {
     "data": {
      "text/plain": [
       "<Process(source) object at 0x110710fd0>"
      ]
     },
     "execution_count": 11,
     "metadata": {},
     "output_type": "execute_result"
    }
   ],
   "source": [
    "random.seed(42)\n",
    "env = simpy.Environment()\n",
    "cola = simpy.Resource(env, capacity=1)\n",
    "env.process(source(env, TOTAL_CLIENTES, INTERVALO_LLEGADAS, cola, TIEMPO_SISTEMA))\n",
    "# env.run()"
   ]
  }
 ],
 "metadata": {
  "celltoolbar": "Slideshow",
  "kernelspec": {
   "display_name": "Python 3",
   "language": "python",
   "name": "python3"
  },
  "language_info": {
   "codemirror_mode": {
    "name": "ipython",
    "version": 3
   },
   "file_extension": ".py",
   "mimetype": "text/x-python",
   "name": "python",
   "nbconvert_exporter": "python",
   "pygments_lexer": "ipython3",
   "version": "3.6.1"
  }
 },
 "nbformat": 4,
 "nbformat_minor": 2
}
