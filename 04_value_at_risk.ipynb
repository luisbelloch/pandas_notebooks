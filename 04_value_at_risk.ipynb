{
 "cells": [
  {
   "cell_type": "markdown",
   "metadata": {},
   "source": [
    "# Value at Risk (VaR)\n",
    "\n",
    "[Wikipedia](https://en.wikipedia.org/wiki/Value_at_risk) definition:\n",
    "\n",
    "> Value at Risk (VaR) is a measure of the risk of investments. It estimates how much a set of investments might lose, given normal market conditions, in a set time period such as a day. VaR is typically used by firms and regulators in the financial industry to gauge the amount of assets needed to cover possible losses.\n",
    "\n",
    "El _valor en riesgo_ de una cartera es una medida que nos permite cuantificar las pérdidas en una inversión haciendo uso de herramientas estadísticas básicas. Para simplificar el ejercicio asumiremos que nuestra cartera esta compuesta de 1000 acciones de `AAPL` compradas a fecha de cierre del día 2 de febrero de 2015, por un valor de 106271.212€."
   ]
  },
  {
   "cell_type": "markdown",
   "metadata": {},
   "source": [
    "### Data Preparation"
   ]
  },
  {
   "cell_type": "code",
   "execution_count": 2,
   "metadata": {},
   "outputs": [
    {
     "data": {
      "text/plain": [
       "Date\n",
       "2010-01-01    30.1046\n",
       "2010-01-04    30.5729\n",
       "Name: Close, dtype: float64"
      ]
     },
     "execution_count": 2,
     "metadata": {},
     "output_type": "execute_result"
    }
   ],
   "source": [
    "from sample_data import stock_prices\n",
    "aapl = stock_prices(\"aapl\")\n",
    "msft = stock_prices(\"msft\")\n",
    "prices = aapl.Close\n",
    "prices[:2]"
   ]
  },
  {
   "cell_type": "markdown",
   "metadata": {},
   "source": [
    "## Cálculo básico paso por paso\n",
    "\n",
    "### 1. Retornos diarios"
   ]
  },
  {
   "cell_type": "code",
   "execution_count": 3,
   "metadata": {},
   "outputs": [
    {
     "data": {
      "text/plain": [
       "Date\n",
       "2010-01-01         NaN\n",
       "2010-01-04    0.015436\n",
       "2010-01-05    0.001726\n",
       "Name: Close, dtype: float64"
      ]
     },
     "execution_count": 3,
     "metadata": {},
     "output_type": "execute_result"
    }
   ],
   "source": [
    "import numpy as np\n",
    "\n",
    "def daily_returns(closes):\n",
    "    return np.log(closes / closes.shift(1))\n",
    "\n",
    "returns = daily_returns(prices)\n",
    "returns[:3]"
   ]
  },
  {
   "cell_type": "code",
   "execution_count": 4,
   "metadata": {},
   "outputs": [
    {
     "data": {
      "text/plain": [
       "<matplotlib.axes._subplots.AxesSubplot at 0x114dad2e8>"
      ]
     },
     "execution_count": 4,
     "metadata": {},
     "output_type": "execute_result"
    },
    {
     "data": {
      "image/png": "[encoded data removed]",
      "text/plain": [
       "<Figure size 432x288 with 1 Axes>"
      ]
     },
     "metadata": {},
     "output_type": "display_data"
    }
   ],
   "source": [
    "%matplotlib inline\n",
    "import matplotlib.pyplot as plt\n",
    "returns.plot.hist(bins=100, color='salmon')"
   ]
  },
  {
   "cell_type": "markdown",
   "metadata": {},
   "source": [
    "La parte izquierda del gráfico muestra la frecuencia de las pérdidas (entre 8% y 6%).\n",
    "\n",
    "Nuestro objetivo es calcular con un 95% de confianza que la mayor pérdida que podemos tener no excede de -4%. Si invertimos 100€, estamos seguros al 95% de que nuestra mayor pérdida no será mayor que 4€.\n",
    "\n",
    "Pandas ya tiene una funcion para extraer el porcentaje de cambio frente al valor anterior."
   ]
  },
  {
   "cell_type": "code",
   "execution_count": 5,
   "metadata": {},
   "outputs": [
    {
     "data": {
      "text/plain": [
       "Date\n",
       "2010-01-01         NaN\n",
       "2010-01-04    0.015556\n",
       "2010-01-05    0.001727\n",
       "Name: Close, dtype: float64"
      ]
     },
     "execution_count": 5,
     "metadata": {},
     "output_type": "execute_result"
    }
   ],
   "source": [
    "prices.pct_change()[:3]"
   ]
  },
  {
   "cell_type": "markdown",
   "metadata": {},
   "source": [
    "### 2. Z-Score\n",
    "\n",
    "$z = \\frac{x - \\mu}{\\sigma}$\n",
    "\n",
    "La función `ppf` devuelve un z-score que tiene el 95% de los datos por encima."
   ]
  },
  {
   "cell_type": "code",
   "execution_count": 6,
   "metadata": {},
   "outputs": [
    {
     "name": "stderr",
     "output_type": "stream",
     "text": [
      "/Users/luis/anaconda3/lib/python3.6/importlib/_bootstrap.py:219: RuntimeWarning: numpy.dtype size changed, may indicate binary incompatibility. Expected 96, got 88\n",
      "  return f(*args, **kwds)\n",
      "/Users/luis/anaconda3/lib/python3.6/importlib/_bootstrap.py:219: ImportWarning: can't resolve package from __spec__ or __package__, falling back on __name__ and __path__\n",
      "  return f(*args, **kwds)\n"
     ]
    },
    {
     "data": {
      "text/plain": [
       "1.6448536269514722"
      ]
     },
     "execution_count": 6,
     "metadata": {},
     "output_type": "execute_result"
    }
   ],
   "source": [
    "from scipy.stats import norm\n",
    "z_score = norm.ppf(0.95) # loc:0 (µ), scale: 1 (σ)\n",
    "z_score"
   ]
  },
  {
   "cell_type": "markdown",
   "metadata": {},
   "source": [
    "### 3. Valor del portfolio el 02/01/2015"
   ]
  },
  {
   "cell_type": "code",
   "execution_count": 7,
   "metadata": {},
   "outputs": [
    {
     "data": {
      "text/plain": [
       "109330.0"
      ]
     },
     "execution_count": 7,
     "metadata": {},
     "output_type": "execute_result"
    }
   ],
   "source": [
    "shares = 1000\n",
    "portfolio_value = shares * prices['2015-1-02']\n",
    "portfolio_value"
   ]
  },
  {
   "cell_type": "markdown",
   "metadata": {},
   "source": [
    "### 4. Value at Risk\n",
    "\n",
    "5% de probabilidad de perder 2949€ de nuestros 106271.212€ el dia siguiente al 2 de febrero.\n",
    "\n",
    "${VaR} = P - P \\cdot (\\alpha(1-c) + 1)$, siendo $c$ el intervalo de confianza"
   ]
  },
  {
   "cell_type": "code",
   "execution_count": 8,
   "metadata": {},
   "outputs": [
    {
     "data": {
      "text/plain": [
       "2814.289349489219"
      ]
     },
     "execution_count": 8,
     "metadata": {},
     "output_type": "execute_result"
    }
   ],
   "source": [
    "alpha = z_score * returns.std()\n",
    "value_at_risk = portfolio_value * alpha\n",
    "value_at_risk"
   ]
  },
  {
   "cell_type": "markdown",
   "metadata": {},
   "source": [
    "Podemos repetir el cálculo para todos los días"
   ]
  },
  {
   "cell_type": "code",
   "execution_count": 9,
   "metadata": {},
   "outputs": [
    {
     "data": {
      "text/plain": [
       "Date\n",
       "2010-01-01    774.929618\n",
       "2010-01-04    786.984239\n",
       "2010-01-05    788.343376\n",
       "Name: Close, dtype: float64"
      ]
     },
     "execution_count": 9,
     "metadata": {},
     "output_type": "execute_result"
    }
   ],
   "source": [
    "multiplier = (z_score * returns.std())\n",
    "many_vars = (prices * 1000) * multiplier\n",
    "many_vars[:3]"
   ]
  },
  {
   "cell_type": "markdown",
   "metadata": {},
   "source": [
    "## Method 2: Historical data\n",
    "\n",
    "Interpretations:\n",
    "- 5% chance of losing at least 10000€\n",
    "- 95% of probability of losing no more than 10000€ the following day"
   ]
  },
  {
   "cell_type": "code",
   "execution_count": 10,
   "metadata": {},
   "outputs": [
    {
     "data": {
      "text/plain": [
       "2719.172243700173"
      ]
     },
     "execution_count": 10,
     "metadata": {},
     "output_type": "execute_result"
    }
   ],
   "source": [
    "def estimate_historical(returns, probability, portfolio_size):\n",
    "    if (probability > 0.5):\n",
    "        probability = 1 - probability\n",
    "    return -(returns.quantile(probability) * portfolio_size)\n",
    "    \n",
    "estimate_historical(returns[1:], 0.05, portfolio_value)"
   ]
  },
  {
   "cell_type": "code",
   "execution_count": 11,
   "metadata": {},
   "outputs": [
    {
     "data": {
      "text/plain": [
       "2723.31190045828"
      ]
     },
     "execution_count": 11,
     "metadata": {},
     "output_type": "execute_result"
    }
   ],
   "source": [
    "def estimate_historical_normal_distribution(returns, probability, portfolio_size):\n",
    "    if (probability > 0.5):\n",
    "        probability = 1 - probability\n",
    "    expected_return = returns.mean()\n",
    "    std_dev = returns.std()\n",
    "    return -(norm.ppf(probability, expected_return, std_dev) * portfolio_size)\n",
    "\n",
    "estimate_historical_normal_distribution(returns[1:], 0.05, portfolio_value)"
   ]
  },
  {
   "cell_type": "markdown",
   "metadata": {},
   "source": [
    "## Method 3: Variance-Covariance Method\n",
    " \n",
    "Given a portfolio of $P$ size with a confidence level of $c$, and considering daily returns. This method does not use actual returns, it assumes our returns data follows a normal distribution.\n",
    " \n",
    "Daily VaR for a single asset is $P - (P \\cdot (\\alpha(1-c) + 1))$\n",
    " \n",
    "Where α is the inverse of the cumulative distribution function of a normal distribution with mean μ and standard deviation σ."
   ]
  },
  {
   "cell_type": "code",
   "execution_count": 12,
   "metadata": {},
   "outputs": [
    {
     "data": {
      "text/plain": [
       "2723.311900458284"
      ]
     },
     "execution_count": 12,
     "metadata": {},
     "output_type": "execute_result"
    }
   ],
   "source": [
    "def var_covar(P, c, mu, sigma):\n",
    "    alpha = norm.ppf(1-c, mu, sigma)\n",
    "    return P - P*(alpha + 1)\n",
    "\n",
    "var_covar(portfolio_value, 0.95, returns.mean(), returns.std())"
   ]
  }
 ],
 "metadata": {
  "anaconda-cloud": {},
  "kernelspec": {
   "display_name": "Python 3",
   "language": "python",
   "name": "python3"
  },
  "language_info": {
   "codemirror_mode": {
    "name": "ipython",
    "version": 3
   },
   "file_extension": ".py",
   "mimetype": "text/x-python",
   "name": "python",
   "nbconvert_exporter": "python",
   "pygments_lexer": "ipython3",
   "version": "3.6.5"
  }
 },
 "nbformat": 4,
 "nbformat_minor": 2
}
